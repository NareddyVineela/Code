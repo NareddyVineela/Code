{
  "nbformat": 4,
  "nbformat_minor": 0,
  "metadata": {
    "colab": {
      "provenance": [],
      "authorship_tag": "ABX9TyMp1wiofta0eG2Qj7zRW4Dw",
      "include_colab_link": true
    },
    "kernelspec": {
      "name": "python3",
      "display_name": "Python 3"
    },
    "language_info": {
      "name": "python"
    }
  },
  "cells": [
    {
      "cell_type": "markdown",
      "metadata": {
        "id": "view-in-github",
        "colab_type": "text"
      },
      "source": [
        "<a href=\"https://colab.research.google.com/github/NareddyVineela/Code/blob/main/Untitled2.ipynb\" target=\"_parent\"><img src=\"https://colab.research.google.com/assets/colab-badge.svg\" alt=\"Open In Colab\"/></a>"
      ]
    },
    {
      "cell_type": "code",
      "execution_count": null,
      "metadata": {
        "id": "wxawMmFgtxW-"
      },
      "outputs": [],
      "source": []
    },
    {
      "cell_type": "markdown",
      "source": [
        "task 1"
      ],
      "metadata": {
        "id": "Ti6KqPf0tyfY"
      }
    },
    {
      "cell_type": "code",
      "source": [
        "str=list(input(\"Enter the string\"))\n",
        "print(\"Initially :\",str)\n",
        "str.remove('t')\n",
        "str.remove('h')\n",
        "print(\"After removing t and h :\",str)\n",
        "result = ''.join(str)\n",
        "print(\"Result :\",result)"
      ],
      "metadata": {
        "colab": {
          "base_uri": "https://localhost:8080/"
        },
        "id": "s1lcNjDLt0eH",
        "outputId": "83aa2915-66c4-40f6-980f-477938212ff4"
      },
      "execution_count": 1,
      "outputs": [
        {
          "output_type": "stream",
          "name": "stdout",
          "text": [
            "Enter the stringpython\n",
            "Initially : ['p', 'y', 't', 'h', 'o', 'n']\n",
            "After removing t and h : ['p', 'y', 'o', 'n']\n",
            "Result : pyon\n"
          ]
        }
      ]
    },
    {
      "cell_type": "markdown",
      "source": [
        "arithmetic opeartions"
      ],
      "metadata": {
        "id": "bXt5R4zZuXpl"
      }
    },
    {
      "cell_type": "code",
      "source": [
        "a=float(input(\"1st Number\"))\n",
        "b=float(input(\"2nd Number\"))\n",
        "print(\"Addition:\", a+b)\n",
        "print(\"Exponential:\", a**b)\n",
        "print(\"Multiplication:\",a*b)\n",
        "print(\"Modulus:\", a%b)"
      ],
      "metadata": {
        "colab": {
          "base_uri": "https://localhost:8080/"
        },
        "id": "NJdwUrJnug0B",
        "outputId": "33143900-c8ff-48c6-b38b-b6199d0c7778"
      },
      "execution_count": 6,
      "outputs": [
        {
          "output_type": "stream",
          "name": "stdout",
          "text": [
            "1st Number24\n",
            "2nd Number21\n",
            "Addition: 45.0\n",
            "Exponential: 9.647972922817449e+28\n",
            "Multiplication: 504.0\n",
            "Modulus: 3.0\n"
          ]
        }
      ]
    },
    {
      "cell_type": "markdown",
      "source": [
        "task 2"
      ],
      "metadata": {
        "id": "TUf9pi14vOyb"
      }
    },
    {
      "cell_type": "code",
      "source": [
        "str1 = input(\"Input a  sentence: \")\n",
        "modified_sentence= str1.replace('python', 'pythons')\n",
        "print(\"Modified sentence:\", modified_sentence)"
      ],
      "metadata": {
        "colab": {
          "base_uri": "https://localhost:8080/"
        },
        "id": "7E48Egv4vQOy",
        "outputId": "73fa741c-d9ed-4fff-f3c6-da112c5e4d4a"
      },
      "execution_count": 7,
      "outputs": [
        {
          "output_type": "stream",
          "name": "stdout",
          "text": [
            "Input a  sentence: i love playing with python\n",
            "Modified sentence: i love playing with pythons\n"
          ]
        }
      ]
    },
    {
      "cell_type": "markdown",
      "source": [
        "task 3"
      ],
      "metadata": {
        "id": "8EPZMbdPveBV"
      }
    },
    {
      "cell_type": "code",
      "source": [
        "score = float(input(\"Enter the marks : \"))\n",
        "if 90 <= score <= 100:\n",
        "    grade = 'A'\n",
        "elif 80 <= score < 90:\n",
        "    grade = 'B'\n",
        "elif 70 <= score < 80:\n",
        "    grade = 'C'\n",
        "elif 60 <= score < 70:\n",
        "    grade = 'D'\n",
        "elif 0 <= score < 60:\n",
        "    grade = 'F'\n",
        "else:\n",
        "    grade = 'Invalid score'\n",
        "\n",
        "print(\"Your grade is:\", grade)"
      ],
      "metadata": {
        "colab": {
          "base_uri": "https://localhost:8080/"
        },
        "id": "LeRM5y3lvgSi",
        "outputId": "82735ab8-3590-49d3-d2d9-9235e9acfddf"
      },
      "execution_count": 8,
      "outputs": [
        {
          "output_type": "stream",
          "name": "stdout",
          "text": [
            "Enter the marks : 90\n",
            "Your grade is: A\n"
          ]
        }
      ]
    }
  ]
}